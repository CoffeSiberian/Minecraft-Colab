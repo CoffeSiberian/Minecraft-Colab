{
  "cells": [
    {
      "cell_type": "markdown",
      "metadata": {
        "id": "oFoDwnBPWCIq"
      },
      "source": [
        "# **Install server files (only use one time)**"
      ]
    },
    {
      "cell_type": "code",
      "execution_count": null,
      "metadata": {
        "id": "mGQMrMTFV_r9"
      },
      "outputs": [],
      "source": [
        "import requests\n",
        "from google.colab import drive\n",
        "\n",
        "!sudo apt-get update\n",
        "!sudo apt-get upgrade\n",
        "!sudo apt-get install openjdk-17-jre-headless\n",
        "\n",
        "drive.mount('/content/drive')\n",
        "%cd \"/content/drive/My Drive/\"\n",
        "!mkdir \"minecraft_server\"\n",
        "%cd \"minecraft_server\"\n",
        "\n",
        "###################################\n",
        "# papermc\n",
        "# vanilla\n",
        "# forge\n",
        "# fabric\n",
        "SERVER = \"papermc\"\n",
        "\n",
        "# Available versions:\n",
        "# 1.20.2\n",
        "# 1.20.1\n",
        "# 1.20\n",
        "# 1.19.4\n",
        "# 1.19.3\n",
        "# 1.19.2\n",
        "# 1.19.1\n",
        "# 1.19\n",
        "# 1.18.2\n",
        "# 1.18.1\n",
        "# 1.18\n",
        "# 1.17.1\n",
        "# 1.17\n",
        "# 1.16.4\n",
        "# 1.16.3\n",
        "# 1.15.2\n",
        "# 1.14.4\n",
        "# 1.13.2\n",
        "# 1.12.2\n",
        "# 1.11.2\n",
        "# 1.10.2\n",
        "# 1.9.4\n",
        "# 1.8.8\n",
        "MC_VERSION = \"1.20.2\"\n",
        "\n",
        "FORGE_VER = \"48.0.19\"\n",
        "FABRIC_VER = \"0.14.23\"\n",
        "FABRIC_VER_INSTALLER = \"0.11.2\"\n",
        "###################################\n",
        "\n",
        "if SERVER == \"papermc\":\n",
        "  URL = f'https://api.papermc.io/v2/projects/paper/versions/{MC_VERSION}/builds'\n",
        "  res = requests.get(URL)\n",
        "  ver_papermc = res.json()[\"builds\"][-1][\"build\"]\n",
        "  FILE_NAME = f'paper-{MC_VERSION}-{ver_papermc}.jar'\n",
        "  DOWNLOAD_URL = f'https://api.papermc.io/v2/projects/paper/versions/{MC_VERSION}/builds/{ver_papermc}/downloads/{FILE_NAME}'\n",
        "  !wget $DOWNLOAD_URL\n",
        "  !mv $FILE_NAME server.jar\n",
        "\n",
        "if SERVER == \"forge\":\n",
        "  FILE_NAME = f'forge-{MC_VERSION}-{FORGE_VER}-installer.jar'\n",
        "  URL = f'https://maven.minecraftforge.net/net/minecraftforge/forge/{MC_VERSION}-{FORGE_VER}/{FILE_NAME}'\n",
        "  !wget $URL\n",
        "  !mv $FILE_NAME server.jar\n",
        "  !java -jar server.jar --installServer\n",
        "\n",
        "if SERVER == \"fabric\":\n",
        "  URL = f'https://meta.fabricmc.net/v2/versions/loader/{MC_VERSION}/{FABRIC_VER}/{FABRIC_VER_INSTALLER}/server/jar'\n",
        "  !wget $URL\n",
        "  !mv jar server.jar\n",
        "\n",
        "if SERVER == \"vanilla\":\n",
        "  !wget https://piston-data.mojang.com/v1/objects/5b868151bd02b41319f54c8d4061b8cae84e665c/server.jar\n",
        "\n",
        "\n",
        "!wget https://github.com/playit-cloud/playit-agent/releases/download/v0.15.8/playit-linux-amd64\n",
        "!echo \"eula=true\" >> eula.txt"
      ]
    },
    {
      "cell_type": "markdown",
      "metadata": {
        "id": "Q5QJfCvBWJD4"
      },
      "source": [
        "# **Run the server**"
      ]
    },
    {
      "cell_type": "code",
      "execution_count": null,
      "metadata": {
        "id": "20H3Q0wEA7yq"
      },
      "outputs": [],
      "source": [
        "from google.colab import drive\n",
        "\n",
        "!sudo apt-get update\n",
        "!sudo apt-get upgrade\n",
        "!sudo apt-get install openjdk-17-jre-headless\n",
        "\n",
        "drive.mount('/content/drive')\n",
        "%cd \"/content/drive/My Drive/minecraft_server\"\n",
        "\n",
        "###################################\n",
        "# papermc\n",
        "# vanilla\n",
        "# forge\n",
        "# fabric\n",
        "SERVER = \"papermc\"\n",
        "###################################\n",
        "\n",
        "if SERVER == \"forge\":\n",
        "  !chmod 777 run.sh\n",
        "  !chmod 777 playit-linux-amd64\n",
        "  !./playit-linux-amd64 --secret_path 'playit_key.txt'&./run.sh\n",
        "\n",
        "if SERVER == \"papermc\":\n",
        "  !chmod 777 playit-linux-amd64\n",
        "  !./playit-linux-amd64 --secret_path 'playit_key.txt'&java -Xms11G -Xmx11G -jar server.jar --nogui\n",
        "\n",
        "if SERVER == \"vanilla\":\n",
        "  !chmod 777 playit-linux-amd64\n",
        "  !./playit-linux-amd64 --secret_path 'playit_key.txt'&java -Xms11G -Xmx11G -jar server.jar nogui\n",
        "\n",
        "if SERVER == \"fabric\":\n",
        "  !chmod 777 playit-linux-amd64\n",
        "  !./playit-linux-amd64 --secret_path 'playit_key.txt'&java -Xmx11G -jar server.jar nogui"
      ]
    }
  ],
  "metadata": {
    "colab": {
      "provenance": []
    },
    "kernelspec": {
      "display_name": "Python 3",
      "name": "python3"
    },
    "language_info": {
      "name": "python"
    }
  },
  "nbformat": 4,
  "nbformat_minor": 0
}
